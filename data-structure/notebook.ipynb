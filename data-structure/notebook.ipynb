{
 "cells": [
  {
   "cell_type": "code",
   "execution_count": null,
   "metadata": {},
   "outputs": [],
   "source": [
    "from DataStructures import DataStructures"
   ]
  },
  {
   "cell_type": "code",
   "execution_count": null,
   "metadata": {},
   "outputs": [],
   "source": [
    "\n",
    "tick_fd = './raw-data/tick_data.csv'\n",
    "data_structures = DataStructures()\n",
    "data_structures.get_dollar_bars(tick_fd, threshold=10000, verbose=True, to_csv=True, output_path='./processed-data/volume_bars.csv')"
   ]
  },
  {
   "cell_type": "code",
   "execution_count": null,
   "outputs": [],
   "source": [
    "from base_bars import *"
   ],
   "metadata": {
    "collapsed": false
   }
  },
  {
   "cell_type": "code",
   "execution_count": 10,
   "outputs": [
    {
     "data": {
      "text/plain": "110"
     },
     "execution_count": 10,
     "metadata": {},
     "output_type": "execute_result"
    }
   ],
   "source": [
    "from base_bars import _crop_data_frame_in_batches\n",
    "import pandas as pd\n",
    "tick_fd = './raw-data/tick_data.csv'\n",
    "df = pd.read_csv(tick_fd)\n",
    "batch_list = _crop_data_frame_in_batches(df, 5000)\n",
    "len(batch_list)"
   ],
   "metadata": {
    "collapsed": false
   }
  },
  {
   "cell_type": "code",
   "execution_count": 12,
   "outputs": [
    {
     "data": {
      "text/plain": "110"
     },
     "execution_count": 12,
     "metadata": {},
     "output_type": "execute_result"
    }
   ],
   "source": [
    "int(df.shape[0] / 5000) + 1"
   ],
   "metadata": {
    "collapsed": false
   }
  },
  {
   "cell_type": "code",
   "execution_count": 19,
   "outputs": [
    {
     "name": "stdout",
     "output_type": "stream",
     "text": [
      "<svg xmlns=\"http://www.w3.org/2000/svg\" xmlns:xlink=\"http://www.w3.org/1999/xlink\" width=\"95.5\" height=\"20\"><linearGradient id=\"smooth\" x2=\"0\" y2=\"100%\"><stop offset=\"0\" stop-color=\"#bbb\" stop-opacity=\".1\"/><stop offset=\"1\" stop-opacity=\".1\"/></linearGradient><clipPath id=\"round\"><rect width=\"95.5\" height=\"20\" rx=\"3\" fill=\"#fff\"/></clipPath><g clip-path=\"url(#round)\"><rect width=\"61.0\" height=\"20\" fill=\"#555\"/><rect x=\"61.0\" width=\"34.5\" height=\"20\" fill=\"#97CA00\"/><rect width=\"95.5\" height=\"20\" fill=\"url(#smooth)\"/></g><g fill=\"#fff\" text-anchor=\"middle\" font-family=\"DejaVu Sans,Verdana,Geneva,sans-serif\" font-size=\"110\"><text x=\"315.0\" y=\"150\" fill=\"#010101\" fill-opacity=\".3\" transform=\"scale(0.1)\" textLength=\"510.0\" lengthAdjust=\"spacing\">coverage</text><text x=\"315.0\" y=\"140\" transform=\"scale(0.1)\" textLength=\"510.0\" lengthAdjust=\"spacing\">coverage</text><text x=\"772.5\" y=\"150\" fill=\"#010101\" fill-opacity=\".3\" transform=\"scale(0.1)\" textLength=\"245.0\" lengthAdjust=\"spacing\">23%</text><text x=\"772.5\" y=\"140\" transform=\"scale(0.1)\" textLength=\"245.0\" lengthAdjust=\"spacing\">23%</text></g></svg>\n"
     ]
    }
   ],
   "source": [
    "from pybadges import badge\n",
    "s = badge(left_text='coverage', right_text='23%', right_color='green')\n",
    "# s is a string that contains the badge data as an svg image.\n",
    "print(s)# => <svg height=\"20\" width=\"191.0\" xmlns=\"ht"
   ],
   "metadata": {
    "collapsed": false
   }
  },
  {
   "cell_type": "code",
   "execution_count": null,
   "outputs": [],
   "source": [],
   "metadata": {
    "collapsed": false
   }
  }
 ],
 "metadata": {
  "kernelspec": {
   "display_name": "base",
   "language": "python",
   "name": "python3"
  },
  "language_info": {
   "codemirror_mode": {
    "name": "ipython",
    "version": 3
   },
   "file_extension": ".py",
   "mimetype": "text/x-python",
   "name": "python",
   "nbconvert_exporter": "python",
   "pygments_lexer": "ipython3",
   "version": "3.8.8"
  },
  "orig_nbformat": 4
 },
 "nbformat": 4,
 "nbformat_minor": 2
}
